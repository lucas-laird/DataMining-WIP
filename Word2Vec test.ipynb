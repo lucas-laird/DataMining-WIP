{
 "cells": [
  {
   "cell_type": "code",
   "execution_count": 4,
   "metadata": {},
   "outputs": [
    {
     "name": "stderr",
     "output_type": "stream",
     "text": [
      "C:\\Users\\llair\\Anaconda3\\lib\\site-packages\\gensim\\utils.py:1212: UserWarning: detected Windows; aliasing chunkize to chunkize_serial\n",
      "  warnings.warn(\"detected Windows; aliasing chunkize to chunkize_serial\")\n"
     ]
    }
   ],
   "source": [
    "from gensim.models import Word2Vec\n",
    "import re\n",
    "import matplotlib.pyplot as plt\n",
    "import os\n",
    "import numpy as np\n",
    "from nltk.corpus import stopwords\n",
    "from multiprocessing import cpu_count"
   ]
  },
  {
   "cell_type": "code",
   "execution_count": 7,
   "metadata": {
    "collapsed": true
   },
   "outputs": [],
   "source": [
    "def read_file(filename):\n",
    "    stopWords = set(stopwords.words('english'))\n",
    "    with open(filename, 'r',encoding = 'utf-8', errors = 'surrogateescape') as f:\n",
    "        doc = f.read()\n",
    "        reviews = doc.split('<EOR>')\n",
    "    data = [];\n",
    "    for r in reviews[:-1]:\n",
    "        temp = re.sub(r'([^\\s\\w]|_)+', '', r)\n",
    "        temp = temp.split()\n",
    "        temp = list(filter(lambda a: a != '', temp))\n",
    "        temp2 = []\n",
    "        for t in temp:\n",
    "            t = t.lower()\n",
    "            if t not in stopWords:\n",
    "                temp2.append(t)\n",
    "        data.append(temp2)\n",
    "    rating = reviews[len(reviews)-1]\n",
    "    rating = rating[10:13]\n",
    "    return(data,rating)\n",
    "\n",
    "def read_directory(directory, verbose = False):\n",
    "    data = []\n",
    "    id_list = []\n",
    "    for filename in os.listdir(directory):\n",
    "        if filename.endswith('.txt'):\n",
    "            if(verbose):\n",
    "                print(\"Starting file: \"+filename)\n",
    "            business_id = filename.split('.txt')[0]\n",
    "            filename = directory + '/' + filename\n",
    "            temp = read_file(filename)\n",
    "            if(verbose):\n",
    "                print(\"Finished file: \"+business_id+\".txt\")\n",
    "            for t in temp: \n",
    "                data.append(t)\n",
    "                id_list.append(business_id)\n",
    "    return((data,id_list))"
   ]
  },
  {
   "cell_type": "code",
   "execution_count": 19,
   "metadata": {
    "collapsed": true
   },
   "outputs": [],
   "source": [
    "def generator_read_dir(directory):\n",
    "    files = os.listdir(directory)\n",
    "    i = 0\n",
    "    n = len(files)\n",
    "    while i < n:\n",
    "        filename = files[i]\n",
    "        i = i+1\n",
    "        if filename.endswith('.txt'):\n",
    "            business_id = filename.split('.txt')[0]\n",
    "            filename = directory + '/' + filename\n",
    "            temp = read_file(filename)\n",
    "            yield(temp,business_id)"
   ]
  },
  {
   "cell_type": "code",
   "execution_count": 12,
   "metadata": {},
   "outputs": [
    {
     "ename": "AttributeError",
     "evalue": "'list' object has no attribute 'size'",
     "output_type": "error",
     "traceback": [
      "\u001b[1;31m---------------------------------------------------------------------------\u001b[0m",
      "\u001b[1;31mAttributeError\u001b[0m                            Traceback (most recent call last)",
      "\u001b[1;32m<ipython-input-12-84e140fb355d>\u001b[0m in \u001b[0;36m<module>\u001b[1;34m()\u001b[0m\n\u001b[1;32m----> 1\u001b[1;33m \u001b[0mprint\u001b[0m\u001b[1;33m(\u001b[0m\u001b[0mdata\u001b[0m\u001b[1;33m.\u001b[0m\u001b[0msize\u001b[0m\u001b[1;33m(\u001b[0m\u001b[1;33m)\u001b[0m\u001b[1;33m)\u001b[0m\u001b[1;33m\u001b[0m\u001b[0m\n\u001b[0m",
      "\u001b[1;31mAttributeError\u001b[0m: 'list' object has no attribute 'size'"
     ]
    }
   ],
   "source": []
  },
  {
   "cell_type": "code",
   "execution_count": 13,
   "metadata": {},
   "outputs": [],
   "source": [
    "def read_reviews(directory):\n",
    "    files = os.listdir(directory)\n",
    "    i = 0\n",
    "    n = len(files)\n",
    "    while i < n:\n",
    "        filename = files[i]\n",
    "        i = i+1\n",
    "        if filename.endswith('.txt'):\n",
    "            filename = directory + '/' + filename\n",
    "            temp = read_file(filename)\n",
    "            yield(temp[0])\n",
    "directory = \"reviews_3mo\"\n",
    "data = read_reviews(directory) #We only want the review text\n",
    "d = []\n",
    "for i in data:\n",
    "    for j in i:\n",
    "        d.append(j)\n",
    "num_cores = cpu_count()\n",
    "model = Word2Vec(d, size = 100, window = 5, min_count = 1, workers = num_cores)\n",
    "model.save('word2vec_test.model')\n",
    "model.wv.save('wordvecs_test.kv') #Save keyed vectors as well"
   ]
  },
  {
   "cell_type": "code",
   "execution_count": null,
   "metadata": {
    "collapsed": true
   },
   "outputs": [],
   "source": [
    "from gensim.models import Word2Vec\n",
    "from gensim.models import KeyedVectors"
   ]
  },
  {
   "cell_type": "code",
   "execution_count": null,
   "metadata": {
    "collapsed": true
   },
   "outputs": [],
   "source": [
    "#Basic word2vec example\n",
    "num_cores = cpu_count()\n",
    "model = Word2Vec(data, size = 100, window = 5, min_count = 1, workers = num_cores)\n",
    "model.save('word2vec_test.model')\n",
    "word = 'hello'\n",
    "vector = model.wv[word] #Returns numpy array of vector embedding of word"
   ]
  },
  {
   "cell_type": "code",
   "execution_count": null,
   "metadata": {
    "collapsed": true
   },
   "outputs": [],
   "source": [
    "#Loading word2vec model from model file\n",
    "model = Word2Vec.load(\"word2vec_test.model\")\n",
    "#If we have new data to train with\n",
    "#Params: \n",
    "#total_examples = number of sentences\n",
    "#epochs = number of iterations\n",
    "model.train(data, total_examples = 1, epochs = 1)"
   ]
  },
  {
   "cell_type": "code",
   "execution_count": null,
   "metadata": {
    "collapsed": true
   },
   "outputs": [],
   "source": [
    "#KeyedVectors allow us to ditch the neural net in favor of just vectors\n",
    "model.wv.save('wordvecs.kv')\n",
    "wordvecs = KeyedVectors.load(\"wordvecs.kv\", mmap = 'r')\n",
    "word = 'hello'\n",
    "vector = wordvecs[word]\n",
    "#We can also ditch the model in this way\n",
    "wordvecs = model.wv #wordvecs will be the keyedvectors\n",
    "del model"
   ]
  },
  {
   "cell_type": "code",
   "execution_count": null,
   "metadata": {
    "collapsed": true
   },
   "outputs": [],
   "source": [
    "#Interesting functionality built into gensim\n",
    "#Positive words are words we want to be similar to\n",
    "#Negative words are words we want to be different to\n",
    "#most_similar will find the word which is closest to P1+P2+...+Pn-N1-N2-...-Nn\n",
    "result = word_vectors.most_similar(positive = [P1,P2], negative = [N1])\n",
    "#Or we can pass in a vector directly(Need the whole model though)\n",
    "result = model.most_similar(positive = [vector], topn = i)\n",
    "#we can check which of a given set is closest to a word\n",
    "result = word_vectors.most_similar_to_given(word1, wordlist)"
   ]
  }
 ],
 "metadata": {
  "kernelspec": {
   "display_name": "Python 3",
   "language": "python",
   "name": "python3"
  },
  "language_info": {
   "codemirror_mode": {
    "name": "ipython",
    "version": 3
   },
   "file_extension": ".py",
   "mimetype": "text/x-python",
   "name": "python",
   "nbconvert_exporter": "python",
   "pygments_lexer": "ipython3",
   "version": "3.6.3"
  }
 },
 "nbformat": 4,
 "nbformat_minor": 2
}
