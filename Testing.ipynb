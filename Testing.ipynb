{
 "cells": [
  {
   "cell_type": "code",
   "execution_count": 19,
   "metadata": {
    "collapsed": true
   },
   "outputs": [],
   "source": [
    "import networkx as nx\n",
    "import re\n",
    "import matplotlib.pyplot as plt\n",
    "from networkx.drawing.nx_agraph import graphviz_layout\n",
    "import os\n",
    "import numpy as np\n",
    "import pandas as pd\n",
    "from networkx.algorithms.shortest_paths.generic import shortest_path_length\n",
    "import nltk\n",
    "from nltk.corpus import stopwords"
   ]
  },
  {
   "cell_type": "code",
   "execution_count": 60,
   "metadata": {
    "collapsed": true
   },
   "outputs": [],
   "source": [
    "def read_file(filename):\n",
    "    stopWords = set(stopwords.words('english'))\n",
    "    with open(filename, 'r') as f:\n",
    "        doc = f.read()\n",
    "        reviews = doc.split('<EOR>')\n",
    "    data = [];\n",
    "    for r in reviews:\n",
    "        temp = re.sub(r'([^\\s\\w]|_)+', '', r)\n",
    "        temp = temp.split()\n",
    "        temp = list(filter(lambda a: a != '', temp))\n",
    "        temp2 = []\n",
    "        for t in temp:\n",
    "            t = t.lower()\n",
    "            if t not in stopWords:\n",
    "                temp2.append(t)\n",
    "        data.append(temp2)\n",
    "    return(data)\n",
    "\"\"\"def read_directory(directory, verbose = False):\n",
    "    data = []\n",
    "    id_list = []\n",
    "    for filename in os.listdir(directory):\n",
    "        if filename.endswith('.txt'):\n",
    "            if(verbose):\n",
    "                print(\"Starting file: \"+filename)\n",
    "            business_id = filename.split('.txt')[0]\n",
    "            filename = directory + '/' + filename\n",
    "            temp = read_file(filename)\n",
    "            if(verbose):\n",
    "                print(\"Finished file: \"+business_id+\".txt\")\n",
    "            for t in temp: \n",
    "                data.append(t)\n",
    "                id_list.append(business_id)\n",
    "    return((data,id_list))\"\"\"\n",
    "\n",
    "def read_dir(directory):\n",
    "    files = os.listdir(directory)\n",
    "    i = 0\n",
    "    n = len(files)\n",
    "    while i < n:\n",
    "        filename = files[i]\n",
    "        i = i+1\n",
    "        if filename.endswith('.txt'):\n",
    "            business_id = filename.split('.txt')[0]\n",
    "            filename = directory + '/' + filename\n",
    "            temp = read_file(filename)\n",
    "            yield(temp,business_id)\n"
   ]
  },
  {
   "cell_type": "code",
   "execution_count": 62,
   "metadata": {
    "collapsed": true
   },
   "outputs": [],
   "source": [
    "\"\"\"def gen_graph(data):\n",
    "    G = nx.Graph()\n",
    "    for s in data:\n",
    "        prev_word = None\n",
    "        for word in s:\n",
    "            if not word.isnumeric():\n",
    "                if len(word) >= 3:\n",
    "                    if not word in list(G.nodes):\n",
    "                        G.add_node(word)\n",
    "                    if prev_word:\n",
    "                        if not (prev_word,word) in list(G.edges):\n",
    "                            G.add_edge(prev_word,word)\n",
    "                    prev_word = word\n",
    "            else:\n",
    "                if not word in list(G.nodes):\n",
    "                        G.add_node(word)\n",
    "                if prev_word:\n",
    "                    if not (prev_word,word) in list(G.edges):\n",
    "                        G.add_edge(prev_word,word)\n",
    "                prev_word = word\n",
    "    largest_cc = max(nx.connected_components(G), key = len)\n",
    "    G = G.subgraph(largest_cc)\n",
    "    return(G)\"\"\"\n",
    "\n",
    "def gen_graph(data):\n",
    "    G = nx.Graph()\n",
    "    stopWords = set(stopwords.words('english'))\n",
    "    for d in data:\n",
    "        reviews = d[0]\n",
    "        for s in reviews:\n",
    "            prev_word = None\n",
    "            for word in s:\n",
    "                if word not in stopWords:\n",
    "                    if not word.isnumeric():\n",
    "                        if len(word) >= 3:\n",
    "                            if not word in list(G.nodes):\n",
    "                                G.add_node(word)\n",
    "                            if prev_word:\n",
    "                                if not (prev_word,word) in list(G.edges):\n",
    "                                    G.add_edge(prev_word,word)\n",
    "                            prev_word = word\n",
    "                    else:\n",
    "                        if not word in list(G.nodes):\n",
    "                                G.add_node(word)\n",
    "                        if prev_word:\n",
    "                            if not (prev_word,word) in list(G.edges):\n",
    "                                G.add_edge(prev_word,word)\n",
    "                        prev_word = word\n",
    "    largest_cc = max(nx.connected_components(G), key = len)\n",
    "    G = G.subgraph(largest_cc)\n",
    "    return(G)\n",
    "\n",
    "def findResSet(T):\n",
    "    degs = T.degree()\n",
    "    root = 0\n",
    "    path = -1\n",
    "    for k in degs:\n",
    "        if k[1] > 1: root = k[0]\n",
    "        if k[1] > 2:\n",
    "            path = -1\n",
    "            break\n",
    "        if k[1] <= 1: path = k[0]\n",
    "    if path != -1: return ({}, [path])\n",
    "\n",
    "    (L, um, _) = partitionLeaves(T, node=root)\n",
    "    R = []\n",
    "    for h in L:\n",
    "        if len(L[h]) > 0:\n",
    "            i = np.random.choice(len(L[h]))\n",
    "            R.extend(L[h][:i] + L[h][i+1:])\n",
    "    return (L, R)\n",
    "\n",
    "def partitionLeaves(T, node=0,  parent=-1):\n",
    "    (marked, unmarked, last) = ({}, [], -1)\n",
    "    N = T.degree(node)\n",
    "    if N == 1: return (marked, [node], last)\n",
    "    if N >= 3:\n",
    "        marked[node] = []\n",
    "        last = node\n",
    "    children = [n for n in T.neighbors(node) if n!=parent]\n",
    "    for child in children:\n",
    "        (m, um, l) = partitionLeaves(T, node=child, parent=node)\n",
    "        marked.update(m)\n",
    "        if len(um) > 0 and N >= 3: marked[node].extend(um)\n",
    "        else:\n",
    "            unmarked.extend(um)\n",
    "            last = l \n",
    "    if len(unmarked) > 0 and last != -1: marked[last].extend(unmarked)\n",
    "    return (marked, unmarked, last)\n"
   ]
  },
  {
   "cell_type": "code",
   "execution_count": 52,
   "metadata": {
    "collapsed": true
   },
   "outputs": [],
   "source": [
    "#Intersect multiple spanning tree approach\n",
    "def find_trees(G,root):\n",
    "    btree = nx.bfs_tree(G,source = root)\n",
    "    dtree = nx.dfs_tree(G,source = root)\n",
    "    btree = btree.to_undirected()\n",
    "    dtree = dtree.to_undirected()\n",
    "    return(btree,dtree)\n",
    "\n",
    "def gen_trees_sets(G, num_trees = 1, union = False):\n",
    "    roots = np.random.choice(list(G.nodes), num_trees, replace = False)\n",
    "    res_set = None\n",
    "    for root in roots:\n",
    "        btree = nx.bfs_tree(G,source = root)\n",
    "        btree = btree.to_undirected()\n",
    "        L,R = findResSet(btree)\n",
    "        R = set(R)\n",
    "        if res_set:\n",
    "            if union:\n",
    "                res_set = res_set | R\n",
    "            else:\n",
    "                res_set = res_set & R\n",
    "        else:\n",
    "            res_set = R\n",
    "    return(list(res_set))"
   ]
  },
  {
   "cell_type": "code",
   "execution_count": 53,
   "metadata": {
    "collapsed": true
   },
   "outputs": [],
   "source": [
    "def distanceMatrix(G, R = None):\n",
    "    if(R):\n",
    "        #set up so that resolving set R will be column labels and rest of graph will be rows\n",
    "        dist = {}\n",
    "        for r in R:\n",
    "            dist.update({r : dict(shortest_path_length(G,source = r))})\n",
    "    else:\n",
    "        dist = dict(shortest_path_length(G))\n",
    "    dist_mat = pd.DataFrame.from_dict(dist)\n",
    "    return(dist_mat)\n",
    "\n",
    "def checkResolving(M):\n",
    "    n = M.shape[0]\n",
    "    for i in range(0,n-1):\n",
    "        for j in range(i+1,n):\n",
    "            if all(M.iloc[i,:] == M.iloc[j,:]):\n",
    "                print(\"Row {} is equal to Row {}\".format(i,j))\n",
    "                return(False)\n",
    "    return(True)\n",
    "    \n",
    "def prune_ResSet(G,R):\n",
    "    M = distanceMatrix(G,R = R)\n",
    "    M_backup = M\n",
    "    M.drop(index = R) #Remove resolving set from check since we know those will be resolved\n",
    "    i = 0\n",
    "    np.random.shuffle(R) #Shuffle R\n",
    "    is_resolving = True\n",
    "    while is_resolving:\n",
    "        print(\"iteration {}. Size of Resolving set {}\".format(i,len(R)))\n",
    "        r = R[i]\n",
    "        i = i+1\n",
    "        M.drop(columns = r)#Remove node from resolving set\n",
    "        is_resolving = checkResolving(M)\n",
    "        if is_resolving:\n",
    "            R.remove(r)\n",
    "    return(R)      "
   ]
  },
  {
   "cell_type": "code",
   "execution_count": 66,
   "metadata": {},
   "outputs": [],
   "source": [
    "directory = \"test_files\"\n",
    "result = read_dir(directory)"
   ]
  },
  {
   "cell_type": "code",
   "execution_count": 67,
   "metadata": {},
   "outputs": [
    {
     "ename": "KeyboardInterrupt",
     "evalue": "",
     "output_type": "error",
     "traceback": [
      "\u001b[1;31m---------------------------------------------------------------------------\u001b[0m",
      "\u001b[1;31mKeyboardInterrupt\u001b[0m                         Traceback (most recent call last)",
      "\u001b[1;32m<ipython-input-67-231c1688ddd0>\u001b[0m in \u001b[0;36m<module>\u001b[1;34m()\u001b[0m\n\u001b[1;32m----> 1\u001b[1;33m \u001b[0mG\u001b[0m \u001b[1;33m=\u001b[0m \u001b[0mgen_graph\u001b[0m\u001b[1;33m(\u001b[0m\u001b[0mresult\u001b[0m\u001b[1;33m)\u001b[0m\u001b[1;33m\u001b[0m\u001b[0m\n\u001b[0m\u001b[0;32m      2\u001b[0m \u001b[0mprint\u001b[0m\u001b[1;33m(\u001b[0m\u001b[0mlen\u001b[0m\u001b[1;33m(\u001b[0m\u001b[0mG\u001b[0m\u001b[1;33m.\u001b[0m\u001b[0mnodes\u001b[0m\u001b[1;33m)\u001b[0m\u001b[1;33m)\u001b[0m\u001b[1;33m\u001b[0m\u001b[0m\n",
      "\u001b[1;32m<ipython-input-62-28019a506e8f>\u001b[0m in \u001b[0;36mgen_graph\u001b[1;34m(data)\u001b[0m\n\u001b[0;32m     37\u001b[0m                                 \u001b[0mG\u001b[0m\u001b[1;33m.\u001b[0m\u001b[0madd_node\u001b[0m\u001b[1;33m(\u001b[0m\u001b[0mword\u001b[0m\u001b[1;33m)\u001b[0m\u001b[1;33m\u001b[0m\u001b[0m\n\u001b[0;32m     38\u001b[0m                             \u001b[1;32mif\u001b[0m \u001b[0mprev_word\u001b[0m\u001b[1;33m:\u001b[0m\u001b[1;33m\u001b[0m\u001b[0m\n\u001b[1;32m---> 39\u001b[1;33m                                 \u001b[1;32mif\u001b[0m \u001b[1;32mnot\u001b[0m \u001b[1;33m(\u001b[0m\u001b[0mprev_word\u001b[0m\u001b[1;33m,\u001b[0m\u001b[0mword\u001b[0m\u001b[1;33m)\u001b[0m \u001b[1;32min\u001b[0m \u001b[0mlist\u001b[0m\u001b[1;33m(\u001b[0m\u001b[0mG\u001b[0m\u001b[1;33m.\u001b[0m\u001b[0medges\u001b[0m\u001b[1;33m)\u001b[0m\u001b[1;33m:\u001b[0m\u001b[1;33m\u001b[0m\u001b[0m\n\u001b[0m\u001b[0;32m     40\u001b[0m                                     \u001b[0mG\u001b[0m\u001b[1;33m.\u001b[0m\u001b[0madd_edge\u001b[0m\u001b[1;33m(\u001b[0m\u001b[0mprev_word\u001b[0m\u001b[1;33m,\u001b[0m\u001b[0mword\u001b[0m\u001b[1;33m)\u001b[0m\u001b[1;33m\u001b[0m\u001b[0m\n\u001b[0;32m     41\u001b[0m                             \u001b[0mprev_word\u001b[0m \u001b[1;33m=\u001b[0m \u001b[0mword\u001b[0m\u001b[1;33m\u001b[0m\u001b[0m\n",
      "\u001b[1;32mD:\\School\\Anaconda\\lib\\site-packages\\networkx\\classes\\reportviews.py\u001b[0m in \u001b[0;36m__iter__\u001b[1;34m(self)\u001b[0m\n\u001b[0;32m   1028\u001b[0m             \u001b[1;32mfor\u001b[0m \u001b[0mnbr\u001b[0m \u001b[1;32min\u001b[0m \u001b[0mnbrs\u001b[0m\u001b[1;33m:\u001b[0m\u001b[1;33m\u001b[0m\u001b[0m\n\u001b[0;32m   1029\u001b[0m                 \u001b[1;32mif\u001b[0m \u001b[0mnbr\u001b[0m \u001b[1;32mnot\u001b[0m \u001b[1;32min\u001b[0m \u001b[0mseen\u001b[0m\u001b[1;33m:\u001b[0m\u001b[1;33m\u001b[0m\u001b[0m\n\u001b[1;32m-> 1030\u001b[1;33m                     \u001b[1;32myield\u001b[0m \u001b[1;33m(\u001b[0m\u001b[0mn\u001b[0m\u001b[1;33m,\u001b[0m \u001b[0mnbr\u001b[0m\u001b[1;33m)\u001b[0m\u001b[1;33m\u001b[0m\u001b[0m\n\u001b[0m\u001b[0;32m   1031\u001b[0m             \u001b[0mseen\u001b[0m\u001b[1;33m[\u001b[0m\u001b[0mn\u001b[0m\u001b[1;33m]\u001b[0m \u001b[1;33m=\u001b[0m \u001b[1;36m1\u001b[0m\u001b[1;33m\u001b[0m\u001b[0m\n\u001b[0;32m   1032\u001b[0m         \u001b[1;32mdel\u001b[0m \u001b[0mseen\u001b[0m\u001b[1;33m\u001b[0m\u001b[0m\n",
      "\u001b[1;31mKeyboardInterrupt\u001b[0m: "
     ]
    }
   ],
   "source": [
    "G = gen_graph(result)\n",
    "print(len(G.nodes))"
   ]
  },
  {
   "cell_type": "code",
   "execution_count": 58,
   "metadata": {
    "collapsed": true
   },
   "outputs": [],
   "source": [
    "R = gen_trees_sets(G, num_trees = 3, union = False)"
   ]
  },
  {
   "cell_type": "code",
   "execution_count": 59,
   "metadata": {},
   "outputs": [
    {
     "name": "stdout",
     "output_type": "stream",
     "text": [
      "2189\n"
     ]
    }
   ],
   "source": [
    "print(len(R))"
   ]
  },
  {
   "cell_type": "code",
   "execution_count": 32,
   "metadata": {
    "collapsed": true
   },
   "outputs": [],
   "source": [
    "M = distanceMatrix(G,R = R)"
   ]
  },
  {
   "cell_type": "code",
   "execution_count": null,
   "metadata": {
    "collapsed": true
   },
   "outputs": [],
   "source": [
    "is_resolving = checkResolving(M)\n",
    "print(is_resolving)"
   ]
  }
 ],
 "metadata": {
  "kernelspec": {
   "display_name": "Python 3",
   "language": "python",
   "name": "python3"
  },
  "language_info": {
   "codemirror_mode": {
    "name": "ipython",
    "version": 3
   },
   "file_extension": ".py",
   "mimetype": "text/x-python",
   "name": "python",
   "nbconvert_exporter": "python",
   "pygments_lexer": "ipython3",
   "version": "3.6.3"
  }
 },
 "nbformat": 4,
 "nbformat_minor": 2
}
