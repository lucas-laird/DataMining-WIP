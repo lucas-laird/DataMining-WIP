{
 "cells": [
  {
   "cell_type": "code",
   "execution_count": null,
   "metadata": {
    "collapsed": true
   },
   "outputs": [],
   "source": [
    "import networkx as nx\n",
    "import re\n",
    "import matplotlib.pyplot as plt\n",
    "from networkx.drawing.nx_agraph import graphviz_layout\n",
    "import os\n",
    "import numpy as np\n",
    "import pandas as pd\n",
    "from networkx.algorithms.shortest_paths.generic import shortest_path_length\n",
    "from scipy.linalg import svd\n",
    "from scipy.stats import entropy\n",
    "from scipy.misc import comb\n",
    "from itertools import product, combinations\n",
    "import multiprocessing as mp"
   ]
  },
  {
   "cell_type": "code",
   "execution_count": null,
   "metadata": {
    "collapsed": true
   },
   "outputs": [],
   "source": [
    "def gen_keywordValues(data):\n",
    "    sentences = re.split('\\.|\\?|!', data)\n",
    "    bi_graph = nx.Graph()\n",
    "    word_list = []\n",
    "    for i,sentence in enumerate(sentences):\n",
    "        words = re.split('\\W+', sentence)\n",
    "        for word in words:\n",
    "            if word not in word_list:\n",
    "                word_list.append(word)\n",
    "    \n",
    "    W = np.zeros((len(sentences), len(word_list)))\n",
    "    for i,sentence in enumerate(sentences):\n",
    "        words = re.split('\\W+', sentence)\n",
    "        for word in words:\n",
    "            W[i][word_list.index(word)] = W[i][word_list.index(word)]+1\n",
    "    return(W,sentences,word_list)\n",
    "\n",
    "def keyword_extraction(data, t = 5, k = 2):\n",
    "    W,sentences,word_list = gen_keywordValues(data)\n",
    "    u,s,v = svd(W)\n",
    "    index = np.argmax(s)\n",
    "    u = u[:,index]\n",
    "    v = v[index,:]\n",
    "    if all(i <= 0 for i in u): u = u*-1\n",
    "    if all(i <= 0 for i in v): v = v*-1\n",
    "    u_ind = np.argsort(u)\n",
    "    v_ind = np.argsort(v)\n",
    "    \n",
    "    return(([(word_list[w], u[w]) for w in u_ind[0:t]], [(sentences[w], v[w]) for w in v_ind[0:k]]))"
   ]
  }
 ],
 "metadata": {
  "kernelspec": {
   "display_name": "Python 3",
   "language": "python",
   "name": "python3"
  },
  "language_info": {
   "codemirror_mode": {
    "name": "ipython",
    "version": 3
   },
   "file_extension": ".py",
   "mimetype": "text/x-python",
   "name": "python",
   "nbconvert_exporter": "python",
   "pygments_lexer": "ipython3",
   "version": "3.6.3"
  }
 },
 "nbformat": 4,
 "nbformat_minor": 2
}
